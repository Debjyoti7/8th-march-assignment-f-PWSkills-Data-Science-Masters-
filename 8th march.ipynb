{
 "cells": [
  {
   "cell_type": "markdown",
   "id": "e63a3bc6-a5b0-43c2-b190-dc493b4083b5",
   "metadata": {},
   "source": [
    "# Q1. What is the Probability density function?"
   ]
  },
  {
   "cell_type": "markdown",
   "id": "4a229dc6-e8e1-408b-8376-1156814d52ad",
   "metadata": {},
   "source": [
    "## The probability density function (PDF) is a mathematical function that describes the likelihood of a random variable taking on a particular value within a given range of values. In other words, it describes the probability distribution of a continuous random variable. The PDF is a non-negative function that integrates to 1 over its support, which is the range of possible values of the random variable. The value of the PDF at a particular point represents the relative likelihood of the random variable taking on that value. The PDF is used to compute probabilities of events that involve continuous random variables. For example, the probability that a continuous random variable falls within a certain interval is given by the integral of the PDF over that interval."
   ]
  },
  {
   "cell_type": "markdown",
   "id": "aef88fb4-7423-4858-91cf-828d462bdb49",
   "metadata": {},
   "source": [
    "# Q2. What are the types of Probability distribution?"
   ]
  },
  {
   "cell_type": "markdown",
   "id": "2a79d1fe-0ca9-4549-8851-ecf003465a61",
   "metadata": {},
   "source": [
    "## There are several types of probability distributions, but here are some of the most common ones:\n",
    "\n",
    "## 1. Normal distribution: This is a bell-shaped distribution that is symmetric around the mean. Many natural phenomena, such as human height, follow this distribution.\n",
    "\n",
    "## 2. Binomial distribution: This distribution describes the probability of a certain number of successes in a fixed number of independent trials, where each trial has only two possible outcomes (success or failure).\n",
    "\n",
    "## 3. Poisson distribution: This distribution is used to model the probability of a certain number of events occurring in a fixed interval of time or space.\n",
    "\n",
    "## 4. Exponential distribution: This distribution is used to model the time between two successive events in a Poisson process.\n",
    "\n",
    "## 5. Uniform distribution: This distribution assigns equal probability to all values within a specified interval.\n",
    "\n",
    "## 6. Gamma distribution: This distribution is a generalization of the exponential distribution and is used to model the time between multiple Poisson events.\n",
    "\n",
    "## 7. Chi-square distribution: This distribution is used in hypothesis testing and is often used to test the goodness of fit of a model.\n",
    "\n",
    "## 8. Student's t-distribution: This distribution is used in hypothesis testing when the sample size is small and the population standard deviation is unknown."
   ]
  },
  {
   "cell_type": "markdown",
   "id": "66b21193-7dd7-4eaf-9582-49dfdc010191",
   "metadata": {},
   "source": [
    "# Q3. Write a Python function to calculate the probability density function of a normal distribution with given mean and standard deviation at a given point."
   ]
  },
  {
   "cell_type": "code",
   "execution_count": 1,
   "id": "b0f75d11-bcda-4c57-961f-7e1645576a6f",
   "metadata": {},
   "outputs": [],
   "source": [
    "import math\n",
    "\n",
    "def normal_pdf(x, mean, std_dev):\n",
    "    \"\"\"\n",
    "    Calculates the PDF of a normal distribution at a given point x, given its mean and standard deviation.\n",
    "    \"\"\"\n",
    "    coef = 1 / (std_dev * math.sqrt(2*math.pi))\n",
    "    exponent = -0.5 * ((x - mean) / std_dev) ** 2\n",
    "    return coef * math.exp(exponent)\n"
   ]
  },
  {
   "cell_type": "code",
   "execution_count": 2,
   "id": "83f61948-891b-429f-aee7-8d6d2050eae5",
   "metadata": {},
   "outputs": [
    {
     "name": "stdout",
     "output_type": "stream",
     "text": [
      "The PDF of a normal distribution with mean 0 and standard deviation 1 at x=1 is 0.24197072451914337\n"
     ]
    }
   ],
   "source": [
    "mean = 0\n",
    "std_dev = 1\n",
    "x = 1\n",
    "pdf_value = normal_pdf(x, mean, std_dev)\n",
    "print(f\"The PDF of a normal distribution with mean {mean} and standard deviation {std_dev} at x={x} is {pdf_value}\")\n"
   ]
  },
  {
   "cell_type": "markdown",
   "id": "2ab28813-1674-46bb-ab9c-6e7e4853249f",
   "metadata": {},
   "source": [
    "# Q4. What are the properties of Binomial distribution? Give two examples of events where binomial distribution can be applied."
   ]
  },
  {
   "cell_type": "markdown",
   "id": "bc88d7c2-31d0-4f67-98cf-e1ab457e9d4c",
   "metadata": {},
   "source": [
    "## The properties of the Binomial distribution are:\n",
    "\n",
    "## 1. The binomial distribution describes the number of successes in a fixed number of independent trials.\n",
    "## 2. Each trial has only two possible outcomes, typically called \"success\" and \"failure\".\n",
    "## 3. The trials are independent of each other.\n",
    "## 4. The probability of success remains constant across all trials.\n",
    "## 5. The distribution is discrete, meaning that it only takes on integer values.\n",
    "## Here are two examples of events where the Binomial distribution can be applied:\n",
    "\n",
    "## 1. A company wants to know the probability of making a sale given that they contact 100 potential customers, and they know that their historical success rate is 20%. In this case, the number of successes (sales) out of 100 trials (customer contacts) follows a Binomial distribution with parameters n=100 and p=0.2.\n",
    "\n",
    "## 2. A medical researcher wants to know the probability of successfully treating a certain disease with a new drug. They plan to enroll 200 patients with the disease, and they know from previous studies that the success rate is 60%. In this case, the number of successful treatments out of 200 trials follows a Binomial distribution with parameters n=200 and p=0.6.\n",
    "\n",
    "\n",
    "\n"
   ]
  },
  {
   "cell_type": "markdown",
   "id": "34ec4003-cf9e-4c9b-a0f9-f62f6801ece0",
   "metadata": {},
   "source": [
    "# Q5. Generate a random sample of size 1000 from a binomial distribution with probability of success 0.4 and plot a histogram of the results using matplotlib."
   ]
  },
  {
   "cell_type": "code",
   "execution_count": 3,
   "id": "726c0902-38e0-4c3c-b239-6be4a6c984be",
   "metadata": {},
   "outputs": [
    {
     "data": {
      "image/png": "[encoded data removed]",
      "text/plain": [
       "<Figure size 640x480 with 1 Axes>"
      ]
     },
     "metadata": {},
     "output_type": "display_data"
    }
   ],
   "source": [
    "import numpy as np\n",
    "import matplotlib.pyplot as plt\n",
    "\n",
    "# Generate random sample of size 1000 from a Binomial distribution with p=0.4\n",
    "n = 1000\n",
    "p = 0.4\n",
    "sample = np.random.binomial(n, p, size=1000)\n",
    "\n",
    "# Plot histogram of the sample\n",
    "plt.hist(sample, bins=20, alpha=0.5)\n",
    "plt.xlabel('Number of successes')\n",
    "plt.ylabel('Frequency')\n",
    "plt.title(f'Histogram of a Binomial Distribution with n={n} and p={p}')\n",
    "plt.show()\n"
   ]
  },
  {
   "cell_type": "markdown",
   "id": "158d9439-a941-42ea-9ad2-02af6d04ed19",
   "metadata": {},
   "source": [
    "# Q6. Write a Python function to calculate the cumulative distribution function of a Poisson distribution with given mean at a given point."
   ]
  },
  {
   "cell_type": "code",
   "execution_count": 4,
   "id": "42763bd0-a79d-4240-930f-bc39421bbe90",
   "metadata": {},
   "outputs": [],
   "source": [
    "import math\n",
    "\n",
    "def poisson_cdf(x, mean):\n",
    "    \"\"\"\n",
    "    Calculates the CDF of a Poisson distribution at a given point x, given its mean.\n",
    "    \"\"\"\n",
    "    cdf = 0\n",
    "    for i in range(x+1):\n",
    "        cdf += (mean ** i / math.factorial(i)) * math.exp(-mean)\n",
    "    return cdf\n"
   ]
  },
  {
   "cell_type": "code",
   "execution_count": 5,
   "id": "640828f9-137a-4097-a76e-e75270ef7bf7",
   "metadata": {},
   "outputs": [
    {
     "name": "stdout",
     "output_type": "stream",
     "text": [
      "The CDF of a Poisson distribution with mean 3 at x=5 is 0.9160820579686966\n"
     ]
    }
   ],
   "source": [
    "mean = 3\n",
    "x = 5\n",
    "cdf_value = poisson_cdf(x, mean)\n",
    "print(f\"The CDF of a Poisson distribution with mean {mean} at x={x} is {cdf_value}\")\n"
   ]
  },
  {
   "cell_type": "markdown",
   "id": "669563b2-84f9-4419-a7f6-fd54d8d1dcdb",
   "metadata": {},
   "source": [
    "# Q7. How Binomial distribution different from Poisson distribution?"
   ]
  },
  {
   "cell_type": "markdown",
   "id": "7e8e843f-2a85-450e-afe8-9d563fe4aa9b",
   "metadata": {},
   "source": [
    "## The Binomial and Poisson distributions are both probability distributions used to model the number of events that occur in a given situation. Here are the main differences between the two:\n",
    "\n",
    "## 1. Number of Trials: The Binomial distribution models the number of successes in a fixed number of independent trials, while the Poisson distribution models the number of events that occur in a fixed unit of time or space, regardless of the number of trials.\n",
    "\n",
    "## 2. Independence: In the Binomial distribution, the trials must be independent of each other, while in the Poisson distribution, the events are assumed to be independent of each other.\n",
    "\n",
    "## 3. Probability of Success: In the Binomial distribution, the probability of success remains constant across all trials, while in the Poisson distribution, the probability of an event occurring is assumed to be small and remains constant across all units of time or space.\n",
    "\n",
    "## 4. Continuous vs. Discrete: The Poisson distribution is a discrete distribution, meaning that it only takes on integer values, while the Binomial distribution can take on any integer value between 0 and the number of trials.\n",
    "\n",
    "## 5. Limiting Case: The Poisson distribution can be considered a limiting case of the Binomial distribution when the number of trials becomes very large and the probability of success becomes very small, such that the mean (product of n and p) remains constant.\n",
    "\n",
    "## In summary, the Binomial distribution is used when we have a fixed number of independent trials and want to model the number of successes, while the Poisson distribution is used when we want to model the number of events that occur in a fixed unit of time or space, regardless of the number of trials.\n",
    "\n",
    "\n",
    "\n",
    "\n"
   ]
  },
  {
   "cell_type": "markdown",
   "id": "f9154492-8c28-4db7-a266-7524f68064b4",
   "metadata": {},
   "source": [
    "# Q8. Generate a random sample of size 1000 from a Poisson distribution with mean 5 and calculate the sample mean and variance."
   ]
  },
  {
   "cell_type": "code",
   "execution_count": 6,
   "id": "4671ff46-771c-4d59-908c-100a7b0cacbd",
   "metadata": {},
   "outputs": [
    {
     "name": "stdout",
     "output_type": "stream",
     "text": [
      "Sample mean: 4.95\n",
      "Sample variance: 5.06\n"
     ]
    }
   ],
   "source": [
    "# Generate random sample of size 1000 from a Poisson distribution with mean 5\n",
    "sample = np.random.poisson(5, size=1000)\n",
    "\n",
    "# Calculate sample mean and variance\n",
    "sample_mean = np.mean(sample)\n",
    "sample_var = np.var(sample)\n",
    "\n",
    "# Print sample mean and variance\n",
    "print(f\"Sample mean: {sample_mean:.2f}\")\n",
    "print(f\"Sample variance: {sample_var:.2f}\")\n"
   ]
  },
  {
   "cell_type": "markdown",
   "id": "cf945b8f-6fd8-4a26-b136-319326aad2cb",
   "metadata": {},
   "source": [
    "# Q9. How mean and variance are related in Binomial distribution and Poisson distribution?"
   ]
  },
  {
   "cell_type": "markdown",
   "id": "3b308d0f-f041-447b-8c68-8114c35e1985",
   "metadata": {},
   "source": [
    "## In both Binomial and Poisson distributions, the mean and variance are related in the following way:\n",
    "\n",
    "## For a Binomial distribution with parameters n and p, the mean is np and the variance is np(1-p).\n",
    "\n",
    "## For a Poisson distribution with parameter λ, the mean and variance are both equal to λ.\n",
    "\n",
    "## The variance is a measure of how spread out the distribution is from its mean. In both the Binomial and Poisson distributions, the variance is proportional to the mean. Specifically, as the mean of the distribution increases, the variance increases as well.\n",
    "\n",
    "## However, the relationship between the mean and variance is stronger in the Binomial distribution than in the Poisson distribution. In the Binomial distribution, the variance is directly proportional to both n and p, and it can be manipulated by changing either of these parameters. In contrast, in the Poisson distribution, the variance is equal to the mean, and it cannot be manipulated by changing the parameter λ."
   ]
  },
  {
   "cell_type": "markdown",
   "id": "0ec04876-3af3-4434-9625-3d7623af4ba7",
   "metadata": {},
   "source": [
    "# Q10. In normal distribution with respect to mean position, where does the least frequent data appear?"
   ]
  },
  {
   "cell_type": "markdown",
   "id": "c9dc86c7-c35a-4bbf-a417-3113d707bc81",
   "metadata": {},
   "source": [
    "## In a normal distribution, the least frequent data appear in the tails of the distribution, which are the areas to the left or right of the mean. The normal distribution is symmetric, so the least frequent data appear at the same distance from the mean on both sides of the distribution.\n",
    "\n",
    "## Specifically, the normal distribution is characterized by the \"68-95-99.7 rule\", which states that approximately 68% of the data falls within one standard deviation of the mean, 95% falls within two standard deviations of the mean, and 99.7% falls within three standard deviations of the mean. This leaves approximately 16% of the data in the tail areas to the left or right of three standard deviations from the mean, which are the least frequent data."
   ]
  },
  {
   "cell_type": "code",
   "execution_count": null,
   "id": "f29d5a23-11c0-40d7-bf4b-fbbcf094ec74",
   "metadata": {},
   "outputs": [],
   "source": []
  }
 ],
 "metadata": {
  "kernelspec": {
   "display_name": "Python 3 (ipykernel)",
   "language": "python",
   "name": "python3"
  },
  "language_info": {
   "codemirror_mode": {
    "name": "ipython",
    "version": 3
   },
   "file_extension": ".py",
   "mimetype": "text/x-python",
   "name": "python",
   "nbconvert_exporter": "python",
   "pygments_lexer": "ipython3",
   "version": "3.10.8"
  }
 },
 "nbformat": 4,
 "nbformat_minor": 5
}
